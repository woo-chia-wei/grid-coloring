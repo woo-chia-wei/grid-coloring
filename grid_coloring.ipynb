{
 "cells": [
  {
   "cell_type": "markdown",
   "metadata": {},
   "source": [
    "# Grid Coloring\n",
    "Adjacent Squares cannot have same color."
   ]
  },
  {
   "cell_type": "code",
   "execution_count": 1,
   "metadata": {},
   "outputs": [],
   "source": [
    "import matplotlib.pyplot as plt\n",
    "import random\n",
    "import numpy as np\n",
    "import math"
   ]
  },
  {
   "cell_type": "code",
   "execution_count": 2,
   "metadata": {},
   "outputs": [],
   "source": [
    "def create_puzzle(length):\n",
    "    \n",
    "    def all_strangers():\n",
    "        moves = [(-1, 0), (1, 0), (0, -1), (0, 1)]\n",
    "        nearby_states = [(state[0] + move[0], state[1] + move[1]) for state in states for move in moves]\n",
    "        return list(set(nearby_states) - set(states))\n",
    "    \n",
    "    def random_stranger():\n",
    "        return random.choices(all_strangers(), k=1)[0]\n",
    "    \n",
    "    def update_neighbours():\n",
    "        neighbours = {}\n",
    "        for state in states:\n",
    "            neighbours[state] = []\n",
    "            for move in [(-1, 0), (1, 0), (0, -1), (0, 1)]:\n",
    "                possible_state = (state[0] + move[0], state[1] + move[1])\n",
    "                if possible_state in states:\n",
    "                    neighbours[state].append(possible_state)\n",
    "        return neighbours\n",
    "    \n",
    "    states = [(0, 0)]\n",
    "    neighbours = update_neighbours()\n",
    "    \n",
    "    for _ in range(length - 1):\n",
    "        next_state = random_stranger()\n",
    "        states.append(next_state)\n",
    "        neighbours = update_neighbours()\n",
    "    \n",
    "    return states, neighbours\n",
    "\n",
    "def plot_solution(colors, ax, show_number=True, fill_colors=['red', 'black', 'green', 'blue']):\n",
    "    states = list(colors.keys())\n",
    "    \n",
    "    for state in states:\n",
    "        if show_number:\n",
    "            rect = plt.Rectangle((state[0]-0.5, state[1]-0.5), 1, 1, fill=False, lw=3)\n",
    "            ax.add_patch(rect)\n",
    "            ax.text(state[0], state[1], colors[state], horizontalalignment='center', verticalalignment='center')\n",
    "        else:\n",
    "            rect = plt.Rectangle((state[0]-0.5, state[1]-0.5), 1, 1, facecolor=fill_colors[colors[state]], fill=True, lw=3)\n",
    "            ax.add_patch(rect)\n",
    "\n",
    "    x = [s[0] for s in states]\n",
    "    y = [s[1] for s in states]\n",
    "\n",
    "    ax.set_xlim((min(x) - 1, max(x) + 1))\n",
    "    ax.set_ylim((min(y) - 1, max(y) + 1))\n",
    "    ax.set_aspect('equal')\n",
    "    ax.axes.get_xaxis().set_visible(False)\n",
    "    ax.axes.get_yaxis().set_visible(False)\n",
    "    \n",
    "def find_search_order(states, neighbours):\n",
    "    \n",
    "    def distance(s1, s2):\n",
    "        return abs((s1[0]-s2[0])**2 + (s1[1]-s2[1])**2)\n",
    "\n",
    "    def uncolored_neighbours(state, colors):\n",
    "        return [state for state in neighbours[state] if colors[state] is None]\n",
    "\n",
    "    center = (sum(s[0] for s in states)/len(states), sum(s[1] for s in states)/len(states))\n",
    "    _, start_state = min([(distance(state, center), state) for state in states], key=lambda x: x[0])\n",
    "\n",
    "    pending_states=[start_state]\n",
    "    scans = {}\n",
    "\n",
    "    counter = 0\n",
    "    visited_states = set()\n",
    "    while pending_states:\n",
    "        current_state = pending_states.pop(0)\n",
    "        scans[current_state] = counter\n",
    "        visited_states.add(current_state)\n",
    "\n",
    "        for state in neighbours[current_state]:\n",
    "            if state not in pending_states and state not in visited_states:\n",
    "                pending_states.append(state)\n",
    "\n",
    "        counter += 1\n",
    "\n",
    "    return scans\n",
    "\n",
    "def find_color_solutions(search_order, neighbours, k):\n",
    "    \n",
    "    def available_colors(state, colors):\n",
    "        set_neighbour_colors = set(colors[state] for state in neighbours[state] if colors[state] is not None)\n",
    "        result = list(set([0,1,2,3]) - set_neighbour_colors)\n",
    "        return result\n",
    "\n",
    "    def rsearch(colors={s: None for s in states}, order=0, solutions=[]):\n",
    "        if len(solutions) == k * 10 ** (k // 4):\n",
    "            return\n",
    "        \n",
    "        if order == len(sorted_states):\n",
    "            solutions.append(colors)\n",
    "            return\n",
    "\n",
    "        current_state = sorted_states[order]\n",
    "        for color in available_colors(current_state, colors):\n",
    "            new_colors = colors.copy()\n",
    "            if color in available_colors(current_state, colors):\n",
    "                new_colors[current_state] = color\n",
    "                rsearch(new_colors, order + 1)\n",
    "\n",
    "        return solutions\n",
    "    \n",
    "    sorted_states = {v:k for k,v in search_order.items()}\n",
    "    colors_solutions = rsearch()\n",
    "    \n",
    "    return random.choices(colors_solutions, k=min(k, len(colors_solutions)))"
   ]
  },
  {
   "cell_type": "markdown",
   "metadata": {},
   "source": [
    "# Simulation"
   ]
  },
  {
   "cell_type": "code",
   "execution_count": 3,
   "metadata": {
    "scrolled": false
   },
   "outputs": [
    {
     "data": {
      "image/png": "[encoded data removed]",
      "text/plain": [
       "<matplotlib.figure.Figure at 0x1947504f780>"
      ]
     },
     "metadata": {
      "needs_background": "light"
     },
     "output_type": "display_data"
    }
   ],
   "source": [
    "nrows = 4\n",
    "ncols = 4\n",
    "nblocks = 10\n",
    "plot_box_size = 3.5\n",
    "\n",
    "states, neighbours = create_puzzle(nblocks)\n",
    "search_order = find_search_order(states, neighbours)\n",
    "colors_solutions = find_color_solutions(search_order, neighbours, nrows*ncols-1)\n",
    "\n",
    "fig, axes = plt.subplots(figsize=(plot_box_size*ncols, plot_box_size*nrows), nrows=nrows, ncols=ncols)\n",
    "axes = axes.flatten()\n",
    "\n",
    "for ax in axes:\n",
    "    ax.axis('off')\n",
    "\n",
    "plot_solution(search_order, axes[0], show_number=True)\n",
    "\n",
    "for ax, colors in zip(axes[1:], colors_solutions):\n",
    "    plot_solution(colors, ax, show_number=False)\n",
    "    \n",
    "plt.show()"
   ]
  },
  {
   "cell_type": "code",
   "execution_count": null,
   "metadata": {},
   "outputs": [],
   "source": []
  },
  {
   "cell_type": "code",
   "execution_count": null,
   "metadata": {},
   "outputs": [],
   "source": []
  },
  {
   "cell_type": "code",
   "execution_count": null,
   "metadata": {},
   "outputs": [],
   "source": []
  },
  {
   "cell_type": "code",
   "execution_count": null,
   "metadata": {},
   "outputs": [],
   "source": []
  },
  {
   "cell_type": "code",
   "execution_count": null,
   "metadata": {},
   "outputs": [],
   "source": []
  },
  {
   "cell_type": "code",
   "execution_count": null,
   "metadata": {},
   "outputs": [],
   "source": []
  },
  {
   "cell_type": "code",
   "execution_count": null,
   "metadata": {},
   "outputs": [],
   "source": []
  }
 ],
 "metadata": {
  "kernelspec": {
   "display_name": "Python 3",
   "language": "python",
   "name": "python3"
  },
  "language_info": {
   "codemirror_mode": {
    "name": "ipython",
    "version": 3
   },
   "file_extension": ".py",
   "mimetype": "text/x-python",
   "name": "python",
   "nbconvert_exporter": "python",
   "pygments_lexer": "ipython3",
   "version": "3.6.4"
  }
 },
 "nbformat": 4,
 "nbformat_minor": 2
}
